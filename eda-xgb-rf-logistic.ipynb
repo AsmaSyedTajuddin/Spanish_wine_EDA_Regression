{
 "cells": [
  {
   "cell_type": "code",
   "execution_count": 1,
   "id": "56f597ab",
   "metadata": {
    "_cell_guid": "b1076dfc-b9ad-4769-8c92-a6c4dae69d19",
    "_uuid": "8f2839f25d086af736a60e9eeb907d3b93b6e0e5",
    "execution": {
     "iopub.execute_input": "2022-05-18T16:21:56.142860Z",
     "iopub.status.busy": "2022-05-18T16:21:56.142058Z",
     "iopub.status.idle": "2022-05-18T16:21:56.162811Z",
     "shell.execute_reply": "2022-05-18T16:21:56.162094Z"
    },
    "papermill": {
     "duration": 0.082828,
     "end_time": "2022-05-18T16:21:56.165092",
     "exception": false,
     "start_time": "2022-05-18T16:21:56.082264",
     "status": "completed"
    },
    "tags": []
   },
   "outputs": [
    {
     "name": "stdout",
     "output_type": "stream",
     "text": [
      "/kaggle/input/online-payments-fraud-detection-dataset/PS_20174392719_1491204439457_log.csv\n"
     ]
    }
   ],
   "source": [
    "# This Python 3 environment comes with many helpful analytics libraries installed\n",
    "# It is defined by the kaggle/python Docker image: https://github.com/kaggle/docker-python\n",
    "# For example, here's several helpful packages to load\n",
    "\n",
    "import numpy as np # linear algebra\n",
    "import pandas as pd # data processing, CSV file I/O (e.g. pd.read_csv)\n",
    "\n",
    "# Input data files are available in the read-only \"../input/\" directory\n",
    "# For example, running this (by clicking run or pressing Shift+Enter) will list all files under the input directory\n",
    "\n",
    "import os\n",
    "for dirname, _, filenames in os.walk('/kaggle/input'):\n",
    "    for filename in filenames:\n",
    "        print(os.path.join(dirname, filename))\n",
    "\n",
    "# You can write up to 20GB to the current directory (/kaggle/working/) that gets preserved as output when you create a version using \"Save & Run All\" \n",
    "# You can also write temporary files to /kaggle/temp/, but they won't be saved outside of the current session"
   ]
  },
  {
   "cell_type": "markdown",
   "id": "8fa95704",
   "metadata": {
    "papermill": {
     "duration": 0.056951,
     "end_time": "2022-05-18T16:21:56.279642",
     "exception": false,
     "start_time": "2022-05-18T16:21:56.222691",
     "status": "completed"
    },
    "tags": []
   },
   "source": [
    "\n",
    "1. step: represents a unit of time where 1 step equals 1 hour\n",
    "2. type: type of online transaction\n",
    "3. amount: the amount of the transaction\n",
    "4. nameOrig: customer starting the transaction\n",
    "5. oldbalanceOrg: balance before the transaction\n",
    "6. newbalanceOrig: balance after the transaction\n",
    "7. nameDest: recipient of the transaction\n",
    "8. oldbalanceDest: initial balance of recipient before the transaction\n",
    "9. newbalanceDest: the new balance of recipient after the transaction\n",
    "10. isFraud: fraud transaction"
   ]
  },
  {
   "cell_type": "code",
   "execution_count": 2,
   "id": "270dda6f",
   "metadata": {
    "execution": {
     "iopub.execute_input": "2022-05-18T16:21:56.395712Z",
     "iopub.status.busy": "2022-05-18T16:21:56.394955Z",
     "iopub.status.idle": "2022-05-18T16:22:15.093955Z",
     "shell.execute_reply": "2022-05-18T16:22:15.092921Z"
    },
    "papermill": {
     "duration": 18.758881,
     "end_time": "2022-05-18T16:22:15.096495",
     "exception": false,
     "start_time": "2022-05-18T16:21:56.337614",
     "status": "completed"
    },
    "tags": []
   },
   "outputs": [],
   "source": [
    "df=pd.read_csv('/kaggle/input/online-payments-fraud-detection-dataset/PS_20174392719_1491204439457_log.csv')"
   ]
  },
  {
   "cell_type": "code",
   "execution_count": 3,
   "id": "676ed962",
   "metadata": {
    "execution": {
     "iopub.execute_input": "2022-05-18T16:22:15.205887Z",
     "iopub.status.busy": "2022-05-18T16:22:15.205580Z",
     "iopub.status.idle": "2022-05-18T16:22:15.232088Z",
     "shell.execute_reply": "2022-05-18T16:22:15.231368Z"
    },
    "papermill": {
     "duration": 0.08413,
     "end_time": "2022-05-18T16:22:15.234349",
     "exception": false,
     "start_time": "2022-05-18T16:22:15.150219",
     "status": "completed"
    },
    "tags": []
   },
   "outputs": [
    {
     "data": {
      "text/html": [
       "<div>\n",
       "<style scoped>\n",
       "    .dataframe tbody tr th:only-of-type {\n",
       "        vertical-align: middle;\n",
       "    }\n",
       "\n",
       "    .dataframe tbody tr th {\n",
       "        vertical-align: top;\n",
       "    }\n",
       "\n",
       "    .dataframe thead th {\n",
       "        text-align: right;\n",
       "    }\n",
       "</style>\n",
       "<table border=\"1\" class=\"dataframe\">\n",
       "  <thead>\n",
       "    <tr style=\"text-align: right;\">\n",
       "      <th></th>\n",
       "      <th>step</th>\n",
       "      <th>type</th>\n",
       "      <th>amount</th>\n",
       "      <th>nameOrig</th>\n",
       "      <th>oldbalanceOrg</th>\n",
       "      <th>newbalanceOrig</th>\n",
       "      <th>nameDest</th>\n",
       "      <th>oldbalanceDest</th>\n",
       "      <th>newbalanceDest</th>\n",
       "      <th>isFraud</th>\n",
       "      <th>isFlaggedFraud</th>\n",
       "    </tr>\n",
       "  </thead>\n",
       "  <tbody>\n",
       "    <tr>\n",
       "      <th>0</th>\n",
       "      <td>1</td>\n",
       "      <td>PAYMENT</td>\n",
       "      <td>9839.64</td>\n",
       "      <td>C1231006815</td>\n",
       "      <td>170136.0</td>\n",
       "      <td>160296.36</td>\n",
       "      <td>M1979787155</td>\n",
       "      <td>0.0</td>\n",
       "      <td>0.0</td>\n",
       "      <td>0</td>\n",
       "      <td>0</td>\n",
       "    </tr>\n",
       "    <tr>\n",
       "      <th>1</th>\n",
       "      <td>1</td>\n",
       "      <td>PAYMENT</td>\n",
       "      <td>1864.28</td>\n",
       "      <td>C1666544295</td>\n",
       "      <td>21249.0</td>\n",
       "      <td>19384.72</td>\n",
       "      <td>M2044282225</td>\n",
       "      <td>0.0</td>\n",
       "      <td>0.0</td>\n",
       "      <td>0</td>\n",
       "      <td>0</td>\n",
       "    </tr>\n",
       "    <tr>\n",
       "      <th>2</th>\n",
       "      <td>1</td>\n",
       "      <td>TRANSFER</td>\n",
       "      <td>181.00</td>\n",
       "      <td>C1305486145</td>\n",
       "      <td>181.0</td>\n",
       "      <td>0.00</td>\n",
       "      <td>C553264065</td>\n",
       "      <td>0.0</td>\n",
       "      <td>0.0</td>\n",
       "      <td>1</td>\n",
       "      <td>0</td>\n",
       "    </tr>\n",
       "    <tr>\n",
       "      <th>3</th>\n",
       "      <td>1</td>\n",
       "      <td>CASH_OUT</td>\n",
       "      <td>181.00</td>\n",
       "      <td>C840083671</td>\n",
       "      <td>181.0</td>\n",
       "      <td>0.00</td>\n",
       "      <td>C38997010</td>\n",
       "      <td>21182.0</td>\n",
       "      <td>0.0</td>\n",
       "      <td>1</td>\n",
       "      <td>0</td>\n",
       "    </tr>\n",
       "    <tr>\n",
       "      <th>4</th>\n",
       "      <td>1</td>\n",
       "      <td>PAYMENT</td>\n",
       "      <td>11668.14</td>\n",
       "      <td>C2048537720</td>\n",
       "      <td>41554.0</td>\n",
       "      <td>29885.86</td>\n",
       "      <td>M1230701703</td>\n",
       "      <td>0.0</td>\n",
       "      <td>0.0</td>\n",
       "      <td>0</td>\n",
       "      <td>0</td>\n",
       "    </tr>\n",
       "  </tbody>\n",
       "</table>\n",
       "</div>"
      ],
      "text/plain": [
       "   step      type    amount     nameOrig  oldbalanceOrg  newbalanceOrig  \\\n",
       "0     1   PAYMENT   9839.64  C1231006815       170136.0       160296.36   \n",
       "1     1   PAYMENT   1864.28  C1666544295        21249.0        19384.72   \n",
       "2     1  TRANSFER    181.00  C1305486145          181.0            0.00   \n",
       "3     1  CASH_OUT    181.00   C840083671          181.0            0.00   \n",
       "4     1   PAYMENT  11668.14  C2048537720        41554.0        29885.86   \n",
       "\n",
       "      nameDest  oldbalanceDest  newbalanceDest  isFraud  isFlaggedFraud  \n",
       "0  M1979787155             0.0             0.0        0               0  \n",
       "1  M2044282225             0.0             0.0        0               0  \n",
       "2   C553264065             0.0             0.0        1               0  \n",
       "3    C38997010         21182.0             0.0        1               0  \n",
       "4  M1230701703             0.0             0.0        0               0  "
      ]
     },
     "execution_count": 3,
     "metadata": {},
     "output_type": "execute_result"
    }
   ],
   "source": [
    "df.head()"
   ]
  },
  {
   "cell_type": "code",
   "execution_count": 4,
   "id": "8e8c6d86",
   "metadata": {
    "execution": {
     "iopub.execute_input": "2022-05-18T16:22:15.347729Z",
     "iopub.status.busy": "2022-05-18T16:22:15.347276Z",
     "iopub.status.idle": "2022-05-18T16:22:15.368089Z",
     "shell.execute_reply": "2022-05-18T16:22:15.367413Z"
    },
    "papermill": {
     "duration": 0.080141,
     "end_time": "2022-05-18T16:22:15.370685",
     "exception": false,
     "start_time": "2022-05-18T16:22:15.290544",
     "status": "completed"
    },
    "tags": []
   },
   "outputs": [
    {
     "name": "stdout",
     "output_type": "stream",
     "text": [
      "<class 'pandas.core.frame.DataFrame'>\n",
      "RangeIndex: 6362620 entries, 0 to 6362619\n",
      "Data columns (total 11 columns):\n",
      " #   Column          Dtype  \n",
      "---  ------          -----  \n",
      " 0   step            int64  \n",
      " 1   type            object \n",
      " 2   amount          float64\n",
      " 3   nameOrig        object \n",
      " 4   oldbalanceOrg   float64\n",
      " 5   newbalanceOrig  float64\n",
      " 6   nameDest        object \n",
      " 7   oldbalanceDest  float64\n",
      " 8   newbalanceDest  float64\n",
      " 9   isFraud         int64  \n",
      " 10  isFlaggedFraud  int64  \n",
      "dtypes: float64(5), int64(3), object(3)\n",
      "memory usage: 534.0+ MB\n"
     ]
    }
   ],
   "source": [
    "df.info()"
   ]
  },
  {
   "cell_type": "code",
   "execution_count": 5,
   "id": "59a1340e",
   "metadata": {
    "execution": {
     "iopub.execute_input": "2022-05-18T16:22:15.483089Z",
     "iopub.status.busy": "2022-05-18T16:22:15.482787Z",
     "iopub.status.idle": "2022-05-18T16:22:17.276874Z",
     "shell.execute_reply": "2022-05-18T16:22:17.275915Z"
    },
    "papermill": {
     "duration": 1.853932,
     "end_time": "2022-05-18T16:22:17.279053",
     "exception": false,
     "start_time": "2022-05-18T16:22:15.425121",
     "status": "completed"
    },
    "tags": []
   },
   "outputs": [
    {
     "data": {
      "text/plain": [
       "step              0\n",
       "type              0\n",
       "amount            0\n",
       "nameOrig          0\n",
       "oldbalanceOrg     0\n",
       "newbalanceOrig    0\n",
       "nameDest          0\n",
       "oldbalanceDest    0\n",
       "newbalanceDest    0\n",
       "isFraud           0\n",
       "isFlaggedFraud    0\n",
       "dtype: int64"
      ]
     },
     "execution_count": 5,
     "metadata": {},
     "output_type": "execute_result"
    }
   ],
   "source": [
    "df.isnull().sum()"
   ]
  },
  {
   "cell_type": "markdown",
   "id": "e6ef2acc",
   "metadata": {
    "papermill": {
     "duration": 0.05733,
     "end_time": "2022-05-18T16:22:17.393810",
     "exception": false,
     "start_time": "2022-05-18T16:22:17.336480",
     "status": "completed"
    },
    "tags": []
   },
   "source": [
    "# EDA"
   ]
  },
  {
   "cell_type": "code",
   "execution_count": 6,
   "id": "699a8d8a",
   "metadata": {
    "execution": {
     "iopub.execute_input": "2022-05-18T16:22:17.509572Z",
     "iopub.status.busy": "2022-05-18T16:22:17.509192Z",
     "iopub.status.idle": "2022-05-18T16:22:18.557827Z",
     "shell.execute_reply": "2022-05-18T16:22:18.556659Z"
    },
    "papermill": {
     "duration": 1.110464,
     "end_time": "2022-05-18T16:22:18.560533",
     "exception": false,
     "start_time": "2022-05-18T16:22:17.450069",
     "status": "completed"
    },
    "tags": []
   },
   "outputs": [],
   "source": [
    "import seaborn as sns\n",
    "import matplotlib.pyplot as plt\n",
    "import warnings\n",
    "plt.style.use('ggplot')\n",
    "warnings.filterwarnings('ignore')"
   ]
  },
  {
   "cell_type": "code",
   "execution_count": 7,
   "id": "5cd56e97",
   "metadata": {
    "execution": {
     "iopub.execute_input": "2022-05-18T16:22:18.675236Z",
     "iopub.status.busy": "2022-05-18T16:22:18.674959Z",
     "iopub.status.idle": "2022-05-18T16:22:18.681088Z",
     "shell.execute_reply": "2022-05-18T16:22:18.680153Z"
    },
    "papermill": {
     "duration": 0.065675,
     "end_time": "2022-05-18T16:22:18.683457",
     "exception": false,
     "start_time": "2022-05-18T16:22:18.617782",
     "status": "completed"
    },
    "tags": []
   },
   "outputs": [
    {
     "data": {
      "text/plain": [
       "Index(['step', 'type', 'amount', 'nameOrig', 'oldbalanceOrg', 'newbalanceOrig',\n",
       "       'nameDest', 'oldbalanceDest', 'newbalanceDest', 'isFraud',\n",
       "       'isFlaggedFraud'],\n",
       "      dtype='object')"
      ]
     },
     "execution_count": 7,
     "metadata": {},
     "output_type": "execute_result"
    }
   ],
   "source": [
    "df.columns"
   ]
  },
  {
   "cell_type": "code",
   "execution_count": 8,
   "id": "f5c7f050",
   "metadata": {
    "execution": {
     "iopub.execute_input": "2022-05-18T16:22:18.800050Z",
     "iopub.status.busy": "2022-05-18T16:22:18.799766Z",
     "iopub.status.idle": "2022-05-18T16:22:20.834449Z",
     "shell.execute_reply": "2022-05-18T16:22:20.833413Z"
    },
    "papermill": {
     "duration": 2.096955,
     "end_time": "2022-05-18T16:22:20.836711",
     "exception": false,
     "start_time": "2022-05-18T16:22:18.739756",
     "status": "completed"
    },
    "tags": []
   },
   "outputs": [
    {
     "data": {
      "text/plain": [
       "<AxesSubplot:xlabel='step', ylabel='Count'>"
      ]
     },
     "execution_count": 8,
     "metadata": {},
     "output_type": "execute_result"
    },
    {
     "data": {
      "image/png": "[encoded data removed]",
      "text/plain": [
       "<Figure size 432x288 with 1 Axes>"
      ]
     },
     "metadata": {},
     "output_type": "display_data"
    }
   ],
   "source": [
    "#step\n",
    "sns.histplot(data=df,x='step')"
   ]
  },
  {
   "cell_type": "code",
   "execution_count": 9,
   "id": "bd7b9b93",
   "metadata": {
    "execution": {
     "iopub.execute_input": "2022-05-18T16:22:20.953908Z",
     "iopub.status.busy": "2022-05-18T16:22:20.953643Z",
     "iopub.status.idle": "2022-05-18T16:22:21.571210Z",
     "shell.execute_reply": "2022-05-18T16:22:21.570197Z"
    },
    "papermill": {
     "duration": 0.678322,
     "end_time": "2022-05-18T16:22:21.573604",
     "exception": false,
     "start_time": "2022-05-18T16:22:20.895282",
     "status": "completed"
    },
    "tags": []
   },
   "outputs": [
    {
     "data": {
      "text/plain": [
       "<AxesSubplot:xlabel='step'>"
      ]
     },
     "execution_count": 9,
     "metadata": {},
     "output_type": "execute_result"
    },
    {
     "data": {
      "image/png": "[encoded data removed]",
      "text/plain": [
       "<Figure size 432x288 with 1 Axes>"
      ]
     },
     "metadata": {},
     "output_type": "display_data"
    }
   ],
   "source": [
    "sns.boxplot(data=df,x='step')"
   ]
  },
  {
   "cell_type": "code",
   "execution_count": 10,
   "id": "9c32a9a4",
   "metadata": {
    "execution": {
     "iopub.execute_input": "2022-05-18T16:22:21.696545Z",
     "iopub.status.busy": "2022-05-18T16:22:21.696221Z",
     "iopub.status.idle": "2022-05-18T16:22:28.216422Z",
     "shell.execute_reply": "2022-05-18T16:22:28.215388Z"
    },
    "papermill": {
     "duration": 6.585282,
     "end_time": "2022-05-18T16:22:28.218583",
     "exception": false,
     "start_time": "2022-05-18T16:22:21.633301",
     "status": "completed"
    },
    "tags": []
   },
   "outputs": [
    {
     "data": {
      "text/plain": [
       "<AxesSubplot:xlabel='type', ylabel='count'>"
      ]
     },
     "execution_count": 10,
     "metadata": {},
     "output_type": "execute_result"
    },
    {
     "data": {
      "image/png": "[encoded data removed]",
      "text/plain": [
       "<Figure size 432x288 with 1 Axes>"
      ]
     },
     "metadata": {},
     "output_type": "display_data"
    }
   ],
   "source": [
    "#type\n",
    "sns.countplot(data=df,x='type')"
   ]
  },
  {
   "cell_type": "code",
   "execution_count": 11,
   "id": "bd70bee7",
   "metadata": {
    "execution": {
     "iopub.execute_input": "2022-05-18T16:22:28.342897Z",
     "iopub.status.busy": "2022-05-18T16:22:28.342630Z",
     "iopub.status.idle": "2022-05-18T16:24:09.583275Z",
     "shell.execute_reply": "2022-05-18T16:24:09.582226Z"
    },
    "papermill": {
     "duration": 101.369761,
     "end_time": "2022-05-18T16:24:09.649051",
     "exception": false,
     "start_time": "2022-05-18T16:22:28.279290",
     "status": "completed"
    },
    "tags": []
   },
   "outputs": [
    {
     "data": {
      "text/plain": [
       "<AxesSubplot:xlabel='amount', ylabel='Count'>"
      ]
     },
     "execution_count": 11,
     "metadata": {},
     "output_type": "execute_result"
    },
    {
     "data": {
      "image/png": "[encoded data removed]",
      "text/plain": [
       "<Figure size 432x288 with 1 Axes>"
      ]
     },
     "metadata": {},
     "output_type": "display_data"
    }
   ],
   "source": [
    "#amount\n",
    "sns.histplot(data=df,x='amount')"
   ]
  },
  {
   "cell_type": "code",
   "execution_count": 12,
   "id": "797e2f06",
   "metadata": {
    "execution": {
     "iopub.execute_input": "2022-05-18T16:24:09.779394Z",
     "iopub.status.busy": "2022-05-18T16:24:09.779065Z",
     "iopub.status.idle": "2022-05-18T16:24:10.875935Z",
     "shell.execute_reply": "2022-05-18T16:24:10.875009Z"
    },
    "papermill": {
     "duration": 1.165337,
     "end_time": "2022-05-18T16:24:10.878227",
     "exception": false,
     "start_time": "2022-05-18T16:24:09.712890",
     "status": "completed"
    },
    "tags": []
   },
   "outputs": [
    {
     "data": {
      "text/plain": [
       "<AxesSubplot:xlabel='amount'>"
      ]
     },
     "execution_count": 12,
     "metadata": {},
     "output_type": "execute_result"
    },
    {
     "data": {
      "image/png": "[encoded data removed]",
      "text/plain": [
       "<Figure size 432x288 with 1 Axes>"
      ]
     },
     "metadata": {},
     "output_type": "display_data"
    }
   ],
   "source": [
    "#amount\n",
    "sns.boxplot(data=df,x='amount')"
   ]
  },
  {
   "cell_type": "code",
   "execution_count": 13,
   "id": "5cec5e5d",
   "metadata": {
    "execution": {
     "iopub.execute_input": "2022-05-18T16:24:11.009665Z",
     "iopub.status.busy": "2022-05-18T16:24:11.008951Z",
     "iopub.status.idle": "2022-05-18T16:26:10.619596Z",
     "shell.execute_reply": "2022-05-18T16:26:10.618597Z"
    },
    "papermill": {
     "duration": 119.743111,
     "end_time": "2022-05-18T16:26:10.686406",
     "exception": false,
     "start_time": "2022-05-18T16:24:10.943295",
     "status": "completed"
    },
    "tags": []
   },
   "outputs": [
    {
     "data": {
      "text/plain": [
       "<AxesSubplot:xlabel='oldbalanceOrg', ylabel='Count'>"
      ]
     },
     "execution_count": 13,
     "metadata": {},
     "output_type": "execute_result"
    },
    {
     "data": {
      "image/png": "[encoded data removed]",
      "text/plain": [
       "<Figure size 432x288 with 1 Axes>"
      ]
     },
     "metadata": {},
     "output_type": "display_data"
    }
   ],
   "source": [
    "#oldbalanceOrg\n",
    "sns.histplot(data=df,x='oldbalanceOrg')"
   ]
  },
  {
   "cell_type": "code",
   "execution_count": 14,
   "id": "408050af",
   "metadata": {
    "execution": {
     "iopub.execute_input": "2022-05-18T16:26:10.817212Z",
     "iopub.status.busy": "2022-05-18T16:26:10.816774Z",
     "iopub.status.idle": "2022-05-18T16:26:17.772559Z",
     "shell.execute_reply": "2022-05-18T16:26:17.771520Z"
    },
    "papermill": {
     "duration": 7.024549,
     "end_time": "2022-05-18T16:26:17.774873",
     "exception": false,
     "start_time": "2022-05-18T16:26:10.750324",
     "status": "completed"
    },
    "tags": []
   },
   "outputs": [
    {
     "data": {
      "text/plain": [
       "C1286084959    113\n",
       "C985934102     109\n",
       "C665576141     105\n",
       "C2083562754    102\n",
       "C248609774     101\n",
       "              ... \n",
       "M1470027725      1\n",
       "M1330329251      1\n",
       "M1784358659      1\n",
       "M2081431099      1\n",
       "C2080388513      1\n",
       "Name: nameDest, Length: 2722362, dtype: int64"
      ]
     },
     "execution_count": 14,
     "metadata": {},
     "output_type": "execute_result"
    }
   ],
   "source": [
    "#nameDest\n",
    "df['nameDest'].value_counts()"
   ]
  },
  {
   "cell_type": "code",
   "execution_count": 15,
   "id": "858daa20",
   "metadata": {
    "execution": {
     "iopub.execute_input": "2022-05-18T16:26:17.909266Z",
     "iopub.status.busy": "2022-05-18T16:26:17.909001Z",
     "iopub.status.idle": "2022-05-18T16:26:19.884048Z",
     "shell.execute_reply": "2022-05-18T16:26:19.882943Z"
    },
    "papermill": {
     "duration": 2.043848,
     "end_time": "2022-05-18T16:26:19.886599",
     "exception": false,
     "start_time": "2022-05-18T16:26:17.842751",
     "status": "completed"
    },
    "tags": []
   },
   "outputs": [
    {
     "data": {
      "text/plain": [
       "<AxesSubplot:xlabel='oldbalanceDest'>"
      ]
     },
     "execution_count": 15,
     "metadata": {},
     "output_type": "execute_result"
    },
    {
     "data": {
      "image/png": "[encoded data removed]",
      "text/plain": [
       "<Figure size 432x288 with 1 Axes>"
      ]
     },
     "metadata": {},
     "output_type": "display_data"
    }
   ],
   "source": [
    "#oldbalanceDest\n",
    "sns.boxplot(data=df,x='oldbalanceDest')"
   ]
  },
  {
   "cell_type": "code",
   "execution_count": 16,
   "id": "e25a32b2",
   "metadata": {
    "execution": {
     "iopub.execute_input": "2022-05-18T16:26:20.022072Z",
     "iopub.status.busy": "2022-05-18T16:26:20.021791Z",
     "iopub.status.idle": "2022-05-18T16:26:21.854248Z",
     "shell.execute_reply": "2022-05-18T16:26:21.853578Z"
    },
    "papermill": {
     "duration": 1.903169,
     "end_time": "2022-05-18T16:26:21.857147",
     "exception": false,
     "start_time": "2022-05-18T16:26:19.953978",
     "status": "completed"
    },
    "tags": []
   },
   "outputs": [
    {
     "data": {
      "text/plain": [
       "<AxesSubplot:xlabel='newbalanceDest'>"
      ]
     },
     "execution_count": 16,
     "metadata": {},
     "output_type": "execute_result"
    },
    {
     "data": {
      "image/png": "[encoded data removed]",
      "text/plain": [
       "<Figure size 432x288 with 1 Axes>"
      ]
     },
     "metadata": {},
     "output_type": "display_data"
    }
   ],
   "source": [
    "#newbalanceDest\n",
    "sns.boxplot(data=df,x='newbalanceDest')"
   ]
  },
  {
   "cell_type": "code",
   "execution_count": 17,
   "id": "bdd3ef04",
   "metadata": {
    "execution": {
     "iopub.execute_input": "2022-05-18T16:26:21.994839Z",
     "iopub.status.busy": "2022-05-18T16:26:21.994434Z",
     "iopub.status.idle": "2022-05-18T16:26:22.751429Z",
     "shell.execute_reply": "2022-05-18T16:26:22.750369Z"
    },
    "papermill": {
     "duration": 0.826878,
     "end_time": "2022-05-18T16:26:22.753750",
     "exception": false,
     "start_time": "2022-05-18T16:26:21.926872",
     "status": "completed"
    },
    "tags": []
   },
   "outputs": [
    {
     "data": {
      "text/plain": [
       "<AxesSubplot:xlabel='isFraud', ylabel='count'>"
      ]
     },
     "execution_count": 17,
     "metadata": {},
     "output_type": "execute_result"
    },
    {
     "data": {
      "image/png": "[encoded data removed]",
      "text/plain": [
       "<Figure size 432x288 with 1 Axes>"
      ]
     },
     "metadata": {},
     "output_type": "display_data"
    }
   ],
   "source": [
    "#isFraud:\n",
    "sns.countplot(data=df,x='isFraud')"
   ]
  },
  {
   "cell_type": "code",
   "execution_count": 18,
   "id": "f6f5c78a",
   "metadata": {
    "execution": {
     "iopub.execute_input": "2022-05-18T16:26:22.895446Z",
     "iopub.status.busy": "2022-05-18T16:26:22.894891Z",
     "iopub.status.idle": "2022-05-18T16:26:22.936208Z",
     "shell.execute_reply": "2022-05-18T16:26:22.935559Z"
    },
    "papermill": {
     "duration": 0.114711,
     "end_time": "2022-05-18T16:26:22.938124",
     "exception": false,
     "start_time": "2022-05-18T16:26:22.823413",
     "status": "completed"
    },
    "tags": []
   },
   "outputs": [
    {
     "data": {
      "text/plain": [
       "0    6354407\n",
       "1       8213\n",
       "Name: isFraud, dtype: int64"
      ]
     },
     "execution_count": 18,
     "metadata": {},
     "output_type": "execute_result"
    }
   ],
   "source": [
    "df['isFraud'].value_counts()"
   ]
  },
  {
   "cell_type": "code",
   "execution_count": 19,
   "id": "44033a44",
   "metadata": {
    "execution": {
     "iopub.execute_input": "2022-05-18T16:26:23.081524Z",
     "iopub.status.busy": "2022-05-18T16:26:23.080890Z",
     "iopub.status.idle": "2022-05-18T16:26:23.121654Z",
     "shell.execute_reply": "2022-05-18T16:26:23.120948Z"
    },
    "papermill": {
     "duration": 0.114544,
     "end_time": "2022-05-18T16:26:23.123770",
     "exception": false,
     "start_time": "2022-05-18T16:26:23.009226",
     "status": "completed"
    },
    "tags": []
   },
   "outputs": [
    {
     "data": {
      "text/plain": [
       "0    6362604\n",
       "1         16\n",
       "Name: isFlaggedFraud, dtype: int64"
      ]
     },
     "execution_count": 19,
     "metadata": {},
     "output_type": "execute_result"
    }
   ],
   "source": [
    "df['isFlaggedFraud'].value_counts()"
   ]
  },
  {
   "cell_type": "code",
   "execution_count": 20,
   "id": "1dd69870",
   "metadata": {
    "execution": {
     "iopub.execute_input": "2022-05-18T16:26:23.268363Z",
     "iopub.status.busy": "2022-05-18T16:26:23.267851Z",
     "iopub.status.idle": "2022-05-18T16:26:25.278112Z",
     "shell.execute_reply": "2022-05-18T16:26:25.277097Z"
    },
    "papermill": {
     "duration": 2.08573,
     "end_time": "2022-05-18T16:26:25.280280",
     "exception": false,
     "start_time": "2022-05-18T16:26:23.194550",
     "status": "completed"
    },
    "tags": []
   },
   "outputs": [
    {
     "data": {
      "text/plain": [
       "<AxesSubplot:>"
      ]
     },
     "execution_count": 20,
     "metadata": {},
     "output_type": "execute_result"
    },
    {
     "data": {
      "image/png": "[encoded data removed]",
      "text/plain": [
       "<Figure size 432x288 with 2 Axes>"
      ]
     },
     "metadata": {},
     "output_type": "display_data"
    }
   ],
   "source": [
    "sns.heatmap(df.corr(),annot=True)"
   ]
  },
  {
   "cell_type": "code",
   "execution_count": 21,
   "id": "9c9e5a7b",
   "metadata": {
    "execution": {
     "iopub.execute_input": "2022-05-18T16:26:25.427653Z",
     "iopub.status.busy": "2022-05-18T16:26:25.427311Z",
     "iopub.status.idle": "2022-05-18T16:27:47.037293Z",
     "shell.execute_reply": "2022-05-18T16:27:47.036394Z"
    },
    "papermill": {
     "duration": 81.756918,
     "end_time": "2022-05-18T16:27:47.111169",
     "exception": false,
     "start_time": "2022-05-18T16:26:25.354251",
     "status": "completed"
    },
    "tags": []
   },
   "outputs": [
    {
     "data": {
      "text/plain": [
       "<seaborn.axisgrid.JointGrid at 0x7f89bc7a9dd0>"
      ]
     },
     "execution_count": 21,
     "metadata": {},
     "output_type": "execute_result"
    },
    {
     "data": {
      "image/png": "[encoded data removed]",
      "text/plain": [
       "<Figure size 432x432 with 3 Axes>"
      ]
     },
     "metadata": {},
     "output_type": "display_data"
    }
   ],
   "source": [
    "sns.jointplot(data=df,x='newbalanceDest',y='isFraud')"
   ]
  },
  {
   "cell_type": "code",
   "execution_count": 22,
   "id": "ad1acb53",
   "metadata": {
    "execution": {
     "iopub.execute_input": "2022-05-18T16:27:47.258900Z",
     "iopub.status.busy": "2022-05-18T16:27:47.258394Z",
     "iopub.status.idle": "2022-05-18T16:27:55.029835Z",
     "shell.execute_reply": "2022-05-18T16:27:55.028734Z"
    },
    "papermill": {
     "duration": 7.848416,
     "end_time": "2022-05-18T16:27:55.032184",
     "exception": false,
     "start_time": "2022-05-18T16:27:47.183768",
     "status": "completed"
    },
    "tags": []
   },
   "outputs": [
    {
     "data": {
      "text/plain": [
       "<AxesSubplot:xlabel='type', ylabel='count'>"
      ]
     },
     "execution_count": 22,
     "metadata": {},
     "output_type": "execute_result"
    },
    {
     "data": {
      "image/png": "[encoded data removed]",
      "text/plain": [
       "<Figure size 432x288 with 1 Axes>"
      ]
     },
     "metadata": {},
     "output_type": "display_data"
    }
   ],
   "source": [
    "sns.countplot(data=df,x='type',hue='isFraud')"
   ]
  },
  {
   "cell_type": "code",
   "execution_count": 23,
   "id": "f710037f",
   "metadata": {
    "execution": {
     "iopub.execute_input": "2022-05-18T16:27:55.183011Z",
     "iopub.status.busy": "2022-05-18T16:27:55.182704Z",
     "iopub.status.idle": "2022-05-18T16:27:56.330907Z",
     "shell.execute_reply": "2022-05-18T16:27:56.329843Z"
    },
    "papermill": {
     "duration": 1.227218,
     "end_time": "2022-05-18T16:27:56.333357",
     "exception": false,
     "start_time": "2022-05-18T16:27:55.106139",
     "status": "completed"
    },
    "tags": []
   },
   "outputs": [
    {
     "data": {
      "text/plain": [
       "<AxesSubplot:xlabel='isFraud', ylabel='step'>"
      ]
     },
     "execution_count": 23,
     "metadata": {},
     "output_type": "execute_result"
    },
    {
     "data": {
      "image/png": "[encoded data removed]",
      "text/plain": [
       "<Figure size 432x288 with 1 Axes>"
      ]
     },
     "metadata": {},
     "output_type": "display_data"
    }
   ],
   "source": [
    "sns.boxplot(data=df,x='isFraud',y='step')"
   ]
  },
  {
   "cell_type": "code",
   "execution_count": 24,
   "id": "49c741b7",
   "metadata": {
    "execution": {
     "iopub.execute_input": "2022-05-18T16:27:56.489925Z",
     "iopub.status.busy": "2022-05-18T16:27:56.489382Z",
     "iopub.status.idle": "2022-05-18T16:27:58.082719Z",
     "shell.execute_reply": "2022-05-18T16:27:58.081733Z"
    },
    "papermill": {
     "duration": 1.674584,
     "end_time": "2022-05-18T16:27:58.084762",
     "exception": false,
     "start_time": "2022-05-18T16:27:56.410178",
     "status": "completed"
    },
    "tags": []
   },
   "outputs": [
    {
     "data": {
      "text/plain": [
       "<AxesSubplot:xlabel='isFraud', ylabel='amount'>"
      ]
     },
     "execution_count": 24,
     "metadata": {},
     "output_type": "execute_result"
    },
    {
     "data": {
      "image/png": "[encoded data removed]",
      "text/plain": [
       "<Figure size 432x288 with 1 Axes>"
      ]
     },
     "metadata": {},
     "output_type": "display_data"
    }
   ],
   "source": [
    "sns.boxplot(data=df,x='isFraud',y='amount')"
   ]
  },
  {
   "cell_type": "code",
   "execution_count": 25,
   "id": "65ea3375",
   "metadata": {
    "execution": {
     "iopub.execute_input": "2022-05-18T16:27:58.237374Z",
     "iopub.status.busy": "2022-05-18T16:27:58.237072Z",
     "iopub.status.idle": "2022-05-18T16:28:01.196052Z",
     "shell.execute_reply": "2022-05-18T16:28:01.194841Z"
    },
    "papermill": {
     "duration": 3.037899,
     "end_time": "2022-05-18T16:28:01.198534",
     "exception": false,
     "start_time": "2022-05-18T16:27:58.160635",
     "status": "completed"
    },
    "tags": []
   },
   "outputs": [
    {
     "data": {
      "text/plain": [
       "<AxesSubplot:xlabel='isFraud', ylabel='oldbalanceOrg'>"
      ]
     },
     "execution_count": 25,
     "metadata": {},
     "output_type": "execute_result"
    },
    {
     "data": {
      "image/png": "[encoded data removed]",
      "text/plain": [
       "<Figure size 432x288 with 1 Axes>"
      ]
     },
     "metadata": {},
     "output_type": "display_data"
    }
   ],
   "source": [
    "sns.boxplot(data=df,x='isFraud',y='oldbalanceOrg')"
   ]
  },
  {
   "cell_type": "code",
   "execution_count": 26,
   "id": "2ed54b1c",
   "metadata": {
    "execution": {
     "iopub.execute_input": "2022-05-18T16:28:01.358151Z",
     "iopub.status.busy": "2022-05-18T16:28:01.357887Z",
     "iopub.status.idle": "2022-05-18T16:28:04.192168Z",
     "shell.execute_reply": "2022-05-18T16:28:04.191138Z"
    },
    "papermill": {
     "duration": 2.915462,
     "end_time": "2022-05-18T16:28:04.194687",
     "exception": false,
     "start_time": "2022-05-18T16:28:01.279225",
     "status": "completed"
    },
    "tags": []
   },
   "outputs": [
    {
     "data": {
      "text/plain": [
       "<AxesSubplot:xlabel='isFraud', ylabel='newbalanceOrig'>"
      ]
     },
     "execution_count": 26,
     "metadata": {},
     "output_type": "execute_result"
    },
    {
     "data": {
      "image/png": "[encoded data removed]",
      "text/plain": [
       "<Figure size 432x288 with 1 Axes>"
      ]
     },
     "metadata": {},
     "output_type": "display_data"
    }
   ],
   "source": [
    "sns.boxplot(data=df,x='isFraud',y='newbalanceOrig')"
   ]
  },
  {
   "cell_type": "code",
   "execution_count": 27,
   "id": "3c218256",
   "metadata": {
    "execution": {
     "iopub.execute_input": "2022-05-18T16:28:04.361850Z",
     "iopub.status.busy": "2022-05-18T16:28:04.361112Z",
     "iopub.status.idle": "2022-05-18T16:28:16.151910Z",
     "shell.execute_reply": "2022-05-18T16:28:16.151136Z"
    },
    "papermill": {
     "duration": 11.876538,
     "end_time": "2022-05-18T16:28:16.154269",
     "exception": false,
     "start_time": "2022-05-18T16:28:04.277731",
     "status": "completed"
    },
    "tags": []
   },
   "outputs": [
    {
     "data": {
      "text/plain": [
       "<AxesSubplot:xlabel='isFraud', ylabel='oldbalanceDest'>"
      ]
     },
     "execution_count": 27,
     "metadata": {},
     "output_type": "execute_result"
    },
    {
     "data": {
      "image/png": "[encoded data removed]",
      "text/plain": [
       "<Figure size 432x288 with 1 Axes>"
      ]
     },
     "metadata": {},
     "output_type": "display_data"
    }
   ],
   "source": [
    "sns.violinplot(data=df,x='isFraud',y='oldbalanceDest')"
   ]
  },
  {
   "cell_type": "code",
   "execution_count": 28,
   "id": "46f86cf8",
   "metadata": {
    "execution": {
     "iopub.execute_input": "2022-05-18T16:28:16.323849Z",
     "iopub.status.busy": "2022-05-18T16:28:16.323577Z",
     "iopub.status.idle": "2022-05-18T16:28:27.981162Z",
     "shell.execute_reply": "2022-05-18T16:28:27.980076Z"
    },
    "papermill": {
     "duration": 11.747762,
     "end_time": "2022-05-18T16:28:27.983790",
     "exception": false,
     "start_time": "2022-05-18T16:28:16.236028",
     "status": "completed"
    },
    "tags": []
   },
   "outputs": [
    {
     "data": {
      "text/plain": [
       "<AxesSubplot:xlabel='isFraud', ylabel='newbalanceDest'>"
      ]
     },
     "execution_count": 28,
     "metadata": {},
     "output_type": "execute_result"
    },
    {
     "data": {
      "image/png": "[encoded data removed]",
      "text/plain": [
       "<Figure size 432x288 with 1 Axes>"
      ]
     },
     "metadata": {},
     "output_type": "display_data"
    }
   ],
   "source": [
    "sns.violinplot(data=df,x='isFraud',y='newbalanceDest')\n"
   ]
  },
  {
   "cell_type": "code",
   "execution_count": null,
   "id": "e6f65928",
   "metadata": {
    "papermill": {
     "duration": 0.084075,
     "end_time": "2022-05-18T16:28:28.158629",
     "exception": false,
     "start_time": "2022-05-18T16:28:28.074554",
     "status": "completed"
    },
    "tags": []
   },
   "outputs": [],
   "source": []
  },
  {
   "cell_type": "markdown",
   "id": "348e1380",
   "metadata": {
    "papermill": {
     "duration": 0.086504,
     "end_time": "2022-05-18T16:28:28.328317",
     "exception": false,
     "start_time": "2022-05-18T16:28:28.241813",
     "status": "completed"
    },
    "tags": []
   },
   "source": [
    "# 데이터 전처리"
   ]
  },
  {
   "cell_type": "markdown",
   "id": "ce18b4c5",
   "metadata": {
    "papermill": {
     "duration": 0.08276,
     "end_time": "2022-05-18T16:28:28.495970",
     "exception": false,
     "start_time": "2022-05-18T16:28:28.413210",
     "status": "completed"
    },
    "tags": []
   },
   "source": [
    "## 'nameOrig','nameDest'삭제"
   ]
  },
  {
   "cell_type": "code",
   "execution_count": 29,
   "id": "384931b8",
   "metadata": {
    "execution": {
     "iopub.execute_input": "2022-05-18T16:28:28.665207Z",
     "iopub.status.busy": "2022-05-18T16:28:28.664775Z",
     "iopub.status.idle": "2022-05-18T16:28:28.893949Z",
     "shell.execute_reply": "2022-05-18T16:28:28.892953Z"
    },
    "papermill": {
     "duration": 0.316241,
     "end_time": "2022-05-18T16:28:28.896437",
     "exception": false,
     "start_time": "2022-05-18T16:28:28.580196",
     "status": "completed"
    },
    "tags": []
   },
   "outputs": [
    {
     "data": {
      "text/plain": [
       "Index(['step', 'type', 'amount', 'oldbalanceOrg', 'newbalanceOrig',\n",
       "       'oldbalanceDest', 'newbalanceDest', 'isFraud', 'isFlaggedFraud'],\n",
       "      dtype='object')"
      ]
     },
     "execution_count": 29,
     "metadata": {},
     "output_type": "execute_result"
    }
   ],
   "source": [
    "df.drop(['nameOrig','nameDest'],axis=1,inplace=True)\n",
    "df.columns"
   ]
  },
  {
   "cell_type": "code",
   "execution_count": 30,
   "id": "a5d65b67",
   "metadata": {
    "execution": {
     "iopub.execute_input": "2022-05-18T16:28:29.066506Z",
     "iopub.status.busy": "2022-05-18T16:28:29.066113Z",
     "iopub.status.idle": "2022-05-18T16:28:29.077286Z",
     "shell.execute_reply": "2022-05-18T16:28:29.076310Z"
    },
    "papermill": {
     "duration": 0.100139,
     "end_time": "2022-05-18T16:28:29.079275",
     "exception": false,
     "start_time": "2022-05-18T16:28:28.979136",
     "status": "completed"
    },
    "tags": []
   },
   "outputs": [
    {
     "name": "stdout",
     "output_type": "stream",
     "text": [
      "<class 'pandas.core.frame.DataFrame'>\n",
      "RangeIndex: 6362620 entries, 0 to 6362619\n",
      "Data columns (total 9 columns):\n",
      " #   Column          Dtype  \n",
      "---  ------          -----  \n",
      " 0   step            int64  \n",
      " 1   type            object \n",
      " 2   amount          float64\n",
      " 3   oldbalanceOrg   float64\n",
      " 4   newbalanceOrig  float64\n",
      " 5   oldbalanceDest  float64\n",
      " 6   newbalanceDest  float64\n",
      " 7   isFraud         int64  \n",
      " 8   isFlaggedFraud  int64  \n",
      "dtypes: float64(5), int64(3), object(1)\n",
      "memory usage: 436.9+ MB\n"
     ]
    }
   ],
   "source": [
    "df.info()"
   ]
  },
  {
   "cell_type": "markdown",
   "id": "24af6733",
   "metadata": {
    "papermill": {
     "duration": 0.085905,
     "end_time": "2022-05-18T16:28:29.249126",
     "exception": false,
     "start_time": "2022-05-18T16:28:29.163221",
     "status": "completed"
    },
    "tags": []
   },
   "source": [
    "## Object data labelencoding"
   ]
  },
  {
   "cell_type": "code",
   "execution_count": 31,
   "id": "d87efaf8",
   "metadata": {
    "execution": {
     "iopub.execute_input": "2022-05-18T16:28:29.420604Z",
     "iopub.status.busy": "2022-05-18T16:28:29.420101Z",
     "iopub.status.idle": "2022-05-18T16:28:31.506918Z",
     "shell.execute_reply": "2022-05-18T16:28:31.505854Z"
    },
    "papermill": {
     "duration": 2.175145,
     "end_time": "2022-05-18T16:28:31.509766",
     "exception": false,
     "start_time": "2022-05-18T16:28:29.334621",
     "status": "completed"
    },
    "tags": []
   },
   "outputs": [],
   "source": [
    "from sklearn.preprocessing import LabelEncoder\n",
    "\n",
    "la=LabelEncoder()\n",
    "df['type']=la.fit_transform(df['type'])\n"
   ]
  },
  {
   "cell_type": "code",
   "execution_count": 32,
   "id": "c642ecca",
   "metadata": {
    "execution": {
     "iopub.execute_input": "2022-05-18T16:28:31.685145Z",
     "iopub.status.busy": "2022-05-18T16:28:31.684835Z",
     "iopub.status.idle": "2022-05-18T16:28:31.727155Z",
     "shell.execute_reply": "2022-05-18T16:28:31.726108Z"
    },
    "papermill": {
     "duration": 0.131613,
     "end_time": "2022-05-18T16:28:31.729274",
     "exception": false,
     "start_time": "2022-05-18T16:28:31.597661",
     "status": "completed"
    },
    "tags": []
   },
   "outputs": [
    {
     "data": {
      "text/plain": [
       "1    2237500\n",
       "3    2151495\n",
       "0    1399284\n",
       "4     532909\n",
       "2      41432\n",
       "Name: type, dtype: int64"
      ]
     },
     "execution_count": 32,
     "metadata": {},
     "output_type": "execute_result"
    }
   ],
   "source": [
    "df['type'].value_counts()"
   ]
  },
  {
   "cell_type": "markdown",
   "id": "d0f7f9d7",
   "metadata": {
    "papermill": {
     "duration": 0.093213,
     "end_time": "2022-05-18T16:28:31.934101",
     "exception": false,
     "start_time": "2022-05-18T16:28:31.840888",
     "status": "completed"
    },
    "tags": []
   },
   "source": [
    "## 데이터 나누기"
   ]
  },
  {
   "cell_type": "code",
   "execution_count": 33,
   "id": "bf0869d8",
   "metadata": {
    "execution": {
     "iopub.execute_input": "2022-05-18T16:28:32.105147Z",
     "iopub.status.busy": "2022-05-18T16:28:32.104845Z",
     "iopub.status.idle": "2022-05-18T16:28:32.492521Z",
     "shell.execute_reply": "2022-05-18T16:28:32.491451Z"
    },
    "papermill": {
     "duration": 0.476276,
     "end_time": "2022-05-18T16:28:32.495221",
     "exception": false,
     "start_time": "2022-05-18T16:28:32.018945",
     "status": "completed"
    },
    "tags": []
   },
   "outputs": [],
   "source": [
    "X=df.drop('isFraud',axis=1)\n",
    "y=df['isFraud']"
   ]
  },
  {
   "cell_type": "code",
   "execution_count": 34,
   "id": "8deced6b",
   "metadata": {
    "execution": {
     "iopub.execute_input": "2022-05-18T16:28:32.668853Z",
     "iopub.status.busy": "2022-05-18T16:28:32.668287Z",
     "iopub.status.idle": "2022-05-18T16:28:34.518818Z",
     "shell.execute_reply": "2022-05-18T16:28:34.517654Z"
    },
    "papermill": {
     "duration": 1.939953,
     "end_time": "2022-05-18T16:28:34.521695",
     "exception": false,
     "start_time": "2022-05-18T16:28:32.581742",
     "status": "completed"
    },
    "tags": []
   },
   "outputs": [],
   "source": [
    "from sklearn.model_selection import train_test_split\n",
    "\n",
    "X_train,X_test,y_train,y_test=train_test_split(X,y,random_state=0,test_size=0.2)\n"
   ]
  },
  {
   "cell_type": "code",
   "execution_count": 35,
   "id": "14c90380",
   "metadata": {
    "execution": {
     "iopub.execute_input": "2022-05-18T16:28:34.693775Z",
     "iopub.status.busy": "2022-05-18T16:28:34.693442Z",
     "iopub.status.idle": "2022-05-18T16:28:34.700085Z",
     "shell.execute_reply": "2022-05-18T16:28:34.698889Z"
    },
    "papermill": {
     "duration": 0.095746,
     "end_time": "2022-05-18T16:28:34.702674",
     "exception": false,
     "start_time": "2022-05-18T16:28:34.606928",
     "status": "completed"
    },
    "tags": []
   },
   "outputs": [
    {
     "name": "stdout",
     "output_type": "stream",
     "text": [
      "(5090096, 8)\n",
      "(1272524, 8)\n",
      "(1272524,)\n",
      "(5090096,)\n"
     ]
    }
   ],
   "source": [
    "print(X_train.shape)\n",
    "print(X_test.shape)\n",
    "print(y_test.shape)\n",
    "print(y_train.shape)"
   ]
  },
  {
   "cell_type": "markdown",
   "id": "e8178385",
   "metadata": {
    "papermill": {
     "duration": 0.085696,
     "end_time": "2022-05-18T16:28:34.870645",
     "exception": false,
     "start_time": "2022-05-18T16:28:34.784949",
     "status": "completed"
    },
    "tags": []
   },
   "source": [
    "## Modeling"
   ]
  },
  {
   "cell_type": "code",
   "execution_count": 36,
   "id": "3e29fc79",
   "metadata": {
    "execution": {
     "iopub.execute_input": "2022-05-18T16:28:35.040900Z",
     "iopub.status.busy": "2022-05-18T16:28:35.040631Z",
     "iopub.status.idle": "2022-05-18T16:28:35.320242Z",
     "shell.execute_reply": "2022-05-18T16:28:35.319307Z"
    },
    "papermill": {
     "duration": 0.367528,
     "end_time": "2022-05-18T16:28:35.323296",
     "exception": false,
     "start_time": "2022-05-18T16:28:34.955768",
     "status": "completed"
    },
    "tags": []
   },
   "outputs": [],
   "source": [
    "from sklearn.ensemble import RandomForestClassifier\n",
    "from sklearn.linear_model import LogisticRegression\n",
    "from xgboost import XGBClassifier\n",
    "from sklearn.metrics import accuracy_score"
   ]
  },
  {
   "cell_type": "markdown",
   "id": "55d44b91",
   "metadata": {
    "papermill": {
     "duration": 0.086167,
     "end_time": "2022-05-18T16:28:35.493237",
     "exception": false,
     "start_time": "2022-05-18T16:28:35.407070",
     "status": "completed"
    },
    "tags": []
   },
   "source": [
    "### RandomForest"
   ]
  },
  {
   "cell_type": "code",
   "execution_count": 37,
   "id": "ba7d7208",
   "metadata": {
    "execution": {
     "iopub.execute_input": "2022-05-18T16:28:35.663501Z",
     "iopub.status.busy": "2022-05-18T16:28:35.663207Z",
     "iopub.status.idle": "2022-05-18T16:47:38.530997Z",
     "shell.execute_reply": "2022-05-18T16:47:38.530110Z"
    },
    "papermill": {
     "duration": 1143.03958,
     "end_time": "2022-05-18T16:47:38.618665",
     "exception": false,
     "start_time": "2022-05-18T16:28:35.579085",
     "status": "completed"
    },
    "tags": []
   },
   "outputs": [
    {
     "name": "stdout",
     "output_type": "stream",
     "text": [
      "랜덤 포레스트 정확도:0.9997\n"
     ]
    }
   ],
   "source": [
    "rf_clf=RandomForestClassifier(random_state=0)\n",
    "rf_clf.fit(X_train,y_train)\n",
    "pred=rf_clf.predict(X_test)\n",
    "accuracy=accuracy_score(y_test,pred)\n",
    "print(\"랜덤 포레스트 정확도:{0:.4f}\".format(accuracy))"
   ]
  },
  {
   "cell_type": "code",
   "execution_count": 38,
   "id": "c204f93d",
   "metadata": {
    "execution": {
     "iopub.execute_input": "2022-05-18T16:47:38.787225Z",
     "iopub.status.busy": "2022-05-18T16:47:38.786735Z",
     "iopub.status.idle": "2022-05-18T16:47:39.057268Z",
     "shell.execute_reply": "2022-05-18T16:47:39.056524Z"
    },
    "papermill": {
     "duration": 0.357628,
     "end_time": "2022-05-18T16:47:39.059430",
     "exception": false,
     "start_time": "2022-05-18T16:47:38.701802",
     "status": "completed"
    },
    "tags": []
   },
   "outputs": [
    {
     "data": {
      "image/png": "[encoded data removed]",
      "text/plain": [
       "<Figure size 576x432 with 1 Axes>"
      ]
     },
     "metadata": {},
     "output_type": "display_data"
    }
   ],
   "source": [
    "ftr_importances_values=rf_clf.feature_importances_\n",
    "ftr_importances=pd.Series(ftr_importances_values,index=X_train.columns)\n",
    "ftr_top20=ftr_importances.sort_values(ascending=False)[:20]\n",
    "\n",
    "plt.figure(figsize=(8,6))\n",
    "plt.title(\"feature importances\")\n",
    "sns.barplot(x=ftr_top20,y=ftr_top20.index)\n",
    "plt.show()"
   ]
  },
  {
   "cell_type": "markdown",
   "id": "e3feb640",
   "metadata": {
    "papermill": {
     "duration": 0.088755,
     "end_time": "2022-05-18T16:47:39.234387",
     "exception": false,
     "start_time": "2022-05-18T16:47:39.145632",
     "status": "completed"
    },
    "tags": []
   },
   "source": [
    "### LogisticRegression"
   ]
  },
  {
   "cell_type": "code",
   "execution_count": 39,
   "id": "53c276bd",
   "metadata": {
    "execution": {
     "iopub.execute_input": "2022-05-18T16:47:39.413107Z",
     "iopub.status.busy": "2022-05-18T16:47:39.412119Z",
     "iopub.status.idle": "2022-05-18T16:48:33.885596Z",
     "shell.execute_reply": "2022-05-18T16:48:33.884239Z"
    },
    "papermill": {
     "duration": 54.648771,
     "end_time": "2022-05-18T16:48:33.973686",
     "exception": false,
     "start_time": "2022-05-18T16:47:39.324915",
     "status": "completed"
    },
    "tags": []
   },
   "outputs": [
    {
     "name": "stdout",
     "output_type": "stream",
     "text": [
      "정확도 : 0.9983\n"
     ]
    }
   ],
   "source": [
    "lr_clf=LogisticRegression()\n",
    "lr_clf.fit(X_train,y_train)\n",
    "lr_pred=lr_clf.predict(X_test)\n",
    "\n",
    "print(\"정확도 : {:0.4f}\".format(accuracy_score(y_test,lr_pred)))"
   ]
  },
  {
   "cell_type": "markdown",
   "id": "b5133df2",
   "metadata": {
    "papermill": {
     "duration": 0.086918,
     "end_time": "2022-05-18T16:48:34.147758",
     "exception": false,
     "start_time": "2022-05-18T16:48:34.060840",
     "status": "completed"
    },
    "tags": []
   },
   "source": [
    "랜덤포레스트보다 시간이 훨씬 덜 들었음"
   ]
  },
  {
   "cell_type": "markdown",
   "id": "410181ab",
   "metadata": {
    "papermill": {
     "duration": 0.08671,
     "end_time": "2022-05-18T16:48:34.322881",
     "exception": false,
     "start_time": "2022-05-18T16:48:34.236171",
     "status": "completed"
    },
    "tags": []
   },
   "source": [
    "### XGBoost"
   ]
  },
  {
   "cell_type": "code",
   "execution_count": 40,
   "id": "64280b61",
   "metadata": {
    "execution": {
     "iopub.execute_input": "2022-05-18T16:48:34.500094Z",
     "iopub.status.busy": "2022-05-18T16:48:34.499782Z",
     "iopub.status.idle": "2022-05-18T16:51:41.957493Z",
     "shell.execute_reply": "2022-05-18T16:51:41.956488Z"
    },
    "papermill": {
     "duration": 187.636542,
     "end_time": "2022-05-18T16:51:42.047527",
     "exception": false,
     "start_time": "2022-05-18T16:48:34.410985",
     "status": "completed"
    },
    "tags": []
   },
   "outputs": [
    {
     "name": "stdout",
     "output_type": "stream",
     "text": [
      "정확도 : 0.9998\n"
     ]
    }
   ],
   "source": [
    "xgb=XGBClassifier(random_state=0)\n",
    "xgb.fit(X_train,y_train)\n",
    "pred=xgb.predict(X_test)\n",
    "print(\"정확도 : {:0.4f}\".format(accuracy_score(y_test,pred)))"
   ]
  },
  {
   "cell_type": "code",
   "execution_count": 41,
   "id": "4e5d17a8",
   "metadata": {
    "execution": {
     "iopub.execute_input": "2022-05-18T16:51:42.223207Z",
     "iopub.status.busy": "2022-05-18T16:51:42.222931Z",
     "iopub.status.idle": "2022-05-18T16:51:42.435629Z",
     "shell.execute_reply": "2022-05-18T16:51:42.434596Z"
    },
    "papermill": {
     "duration": 0.304376,
     "end_time": "2022-05-18T16:51:42.438116",
     "exception": false,
     "start_time": "2022-05-18T16:51:42.133740",
     "status": "completed"
    },
    "tags": []
   },
   "outputs": [
    {
     "data": {
      "image/png": "[encoded data removed]",
      "text/plain": [
       "<Figure size 576x432 with 1 Axes>"
      ]
     },
     "metadata": {},
     "output_type": "display_data"
    }
   ],
   "source": [
    "ftr_importances_values=xgb.feature_importances_\n",
    "ftr_importances=pd.Series(ftr_importances_values,index=X_train.columns)\n",
    "ftr_top20=ftr_importances.sort_values(ascending=False)[:20]\n",
    "\n",
    "plt.figure(figsize=(8,6))\n",
    "plt.title(\"feature importances\")\n",
    "sns.barplot(x=ftr_top20,y=ftr_top20.index)\n",
    "plt.show()"
   ]
  },
  {
   "cell_type": "code",
   "execution_count": null,
   "id": "f18db854",
   "metadata": {
    "papermill": {
     "duration": 0.086625,
     "end_time": "2022-05-18T16:51:42.615643",
     "exception": false,
     "start_time": "2022-05-18T16:51:42.529018",
     "status": "completed"
    },
    "tags": []
   },
   "outputs": [],
   "source": []
  }
 ],
 "metadata": {
  "kernelspec": {
   "display_name": "Python 3",
   "language": "python",
   "name": "python3"
  },
  "language_info": {
   "codemirror_mode": {
    "name": "ipython",
    "version": 3
   },
   "file_extension": ".py",
   "mimetype": "text/x-python",
   "name": "python",
   "nbconvert_exporter": "python",
   "pygments_lexer": "ipython3",
   "version": "3.7.12"
  },
  "papermill": {
   "default_parameters": {},
   "duration": 1799.915461,
   "end_time": "2022-05-18T16:51:45.426095",
   "environment_variables": {},
   "exception": null,
   "input_path": "__notebook__.ipynb",
   "output_path": "__notebook__.ipynb",
   "parameters": {},
   "start_time": "2022-05-18T16:21:45.510634",
   "version": "2.3.4"
  }
 },
 "nbformat": 4,
 "nbformat_minor": 5
}
